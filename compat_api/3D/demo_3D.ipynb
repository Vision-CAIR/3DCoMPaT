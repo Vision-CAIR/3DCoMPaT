{
 "cells": [
  {
   "cell_type": "markdown",
   "metadata": {},
   "source": [
    "## 3DCoMPaT: 3D Dataloader Demo"
   ]
  },
  {
   "cell_type": "markdown",
   "metadata": {},
   "source": [
    "We give here a few pointers as to how to easily manipulate the 3D point cloud data from the 3DCoMPaT dataset.\n",
    "\n",
    "All **3D shapes** in our dataset are identified by a unique 36 characters string, which also identifies all views and metadata pertaining a specific shape.\n",
    "\n",
    "\n",
    "### Table of Contents\n",
    "1. [Loading raw mesh](#visualizing-original-meshes)\n",
    "2. [Loading sampled point clouds](#visualizing-sampled-point-clouds)\n",
    "2. [Loading stylized CAD models](#visualizing-stylized-sampled-point-clouds)\n"
   ]
  },
  {
   "cell_type": "code",
   "execution_count": 4,
   "metadata": {
    "collapsed": false
   },
   "outputs": [],
   "source": [
    "import numpy as np\n",
    "import torch\n",
    "import trimesh\n",
    "import matplotlib.pyplot as plt\n",
    "\n",
    "from compat3D import CompatLoader3D, CompatLoader_stylized3D\n",
    "\n",
    "\n",
    "def show_pointcloud(pointclouds, classes, parts, colors, size=4):\n",
    "    \"\"\"\n",
    "    Displaying point clouds in the notebook.\n",
    "    \"\"\"\n",
    "    \n",
    "    n_pcs = len(pointclouds)\n",
    "    fig = plt.figure(figsize=(size*n_pcs, size))\n",
    "    for i, (pc, cls, part, clr) in enumerate(zip(pointclouds, classes, parts, colors)):\n",
    "        ax = fig.add_subplot(1, n_pcs, i+1, projection='3d')\n",
    "        if np.sum(clr.numpy())==0:\n",
    "            print('using part as colors')\n",
    "            colors = part.numpy()\n",
    "        else:\n",
    "            colors = clr.numpy()[:,:4] / 255.0\n",
    "#         print(pc.shape, colors.shape)\n",
    "        ax.scatter(pc[:,1], pc[:,0], pc[:,2], s=2, c=colors, )\n",
    "        title = 'object category: ' + str(cls.item()) + '\\n parts:' + str(np.unique(part))\n",
    "        ax.set_title(title)\n",
    "    plt.show()\n"
   ]
  },
  {
   "cell_type": "markdown",
   "metadata": {},
   "source": [
    "### Visualizing original meshes\n",
    "#### n_point=0"
   ]
  },
  {
   "cell_type": "code",
   "execution_count": 5,
   "metadata": {
    "collapsed": false
   },
   "outputs": [
    {
     "ename": "ValueError",
     "evalue": "string is not a file: ./raw_models/6af5c6ba-4d2d-4b9a-91cd-bdee96e4a713.glb",
     "output_type": "error",
     "traceback": [
      "\u001b[0;31m---------------------------------------------------------------------------\u001b[0m",
      "\u001b[0;31mValueError\u001b[0m                                Traceback (most recent call last)",
      "\u001b[1;32m/home/habib/Documents/KAUST-Work/website/3dcompat/compat_api/3D/demo_3D.ipynb Cell 5'\u001b[0m in \u001b[0;36m<cell line: 13>\u001b[0;34m()\u001b[0m\n\u001b[1;32m      <a href='vscode-notebook-cell:/home/habib/Documents/KAUST-Work/website/3dcompat/compat_api/3D/demo_3D.ipynb#ch0000005?line=0'>1</a>\u001b[0m \u001b[39m\"\"\"\u001b[39;00m\n\u001b[1;32m      <a href='vscode-notebook-cell:/home/habib/Documents/KAUST-Work/website/3dcompat/compat_api/3D/demo_3D.ipynb#ch0000005?line=1'>2</a>\u001b[0m \u001b[39mUnsylized 3D dataset loader.\u001b[39;00m\n\u001b[1;32m      <a href='vscode-notebook-cell:/home/habib/Documents/KAUST-Work/website/3dcompat/compat_api/3D/demo_3D.ipynb#ch0000005?line=2'>3</a>\u001b[0m \n\u001b[0;32m   (...)\u001b[0m\n\u001b[1;32m      <a href='vscode-notebook-cell:/home/habib/Documents/KAUST-Work/website/3dcompat/compat_api/3D/demo_3D.ipynb#ch0000005?line=8'>9</a>\u001b[0m \u001b[39m        n_points:    Number of sampled points. When n_points=0, returned original mesh.\u001b[39;00m\n\u001b[1;32m     <a href='vscode-notebook-cell:/home/habib/Documents/KAUST-Work/website/3dcompat/compat_api/3D/demo_3D.ipynb#ch0000005?line=9'>10</a>\u001b[0m \u001b[39m\"\"\"\u001b[39;00m\n\u001b[1;32m     <a href='vscode-notebook-cell:/home/habib/Documents/KAUST-Work/website/3dcompat/compat_api/3D/demo_3D.ipynb#ch0000005?line=11'>12</a>\u001b[0m train_dataset \u001b[39m=\u001b[39m CompatLoader3D(meta_dir\u001b[39m=\u001b[39m\u001b[39m'\u001b[39m\u001b[39m../../metadata/\u001b[39m\u001b[39m'\u001b[39m, root_dir\u001b[39m=\u001b[39m\u001b[39m\"\u001b[39m\u001b[39m./\u001b[39m\u001b[39m\"\u001b[39m, split\u001b[39m=\u001b[39m\u001b[39m\"\u001b[39m\u001b[39mtrain\u001b[39m\u001b[39m\"\u001b[39m, n_point\u001b[39m=\u001b[39m\u001b[39m0\u001b[39m)\n\u001b[0;32m---> <a href='vscode-notebook-cell:/home/habib/Documents/KAUST-Work/website/3dcompat/compat_api/3D/demo_3D.ipynb#ch0000005?line=12'>13</a>\u001b[0m shape_id, mesh \u001b[39m=\u001b[39m train_dataset\u001b[39m.\u001b[39;49m\u001b[39m__getitem__\u001b[39;49m(\u001b[39m0\u001b[39;49m)\n",
      "File \u001b[0;32m~/Documents/KAUST-Work/website/3dcompat/compat_api/3D/compat3D.py:78\u001b[0m, in \u001b[0;36mCompatLoader3D.__getitem__\u001b[0;34m(self, index)\u001b[0m\n\u001b[1;32m     <a href='file:///home/habib/Documents/KAUST-Work/website/3dcompat/compat_api/3D/compat3D.py?line=75'>76</a>\u001b[0m shape_id \u001b[39m=\u001b[39m \u001b[39mself\u001b[39m\u001b[39m.\u001b[39mshape_ids[index]\n\u001b[1;32m     <a href='file:///home/habib/Documents/KAUST-Work/website/3dcompat/compat_api/3D/compat3D.py?line=76'>77</a>\u001b[0m gltf_path \u001b[39m=\u001b[39m os\u001b[39m.\u001b[39mpath\u001b[39m.\u001b[39mjoin(\u001b[39mself\u001b[39m\u001b[39m.\u001b[39mroot_dir, \u001b[39m'\u001b[39m\u001b[39mraw_models\u001b[39m\u001b[39m'\u001b[39m, shape_id \u001b[39m+\u001b[39m \u001b[39m'\u001b[39m\u001b[39m.glb\u001b[39m\u001b[39m'\u001b[39m)\n\u001b[0;32m---> <a href='file:///home/habib/Documents/KAUST-Work/website/3dcompat/compat_api/3D/compat3D.py?line=77'>78</a>\u001b[0m mesh \u001b[39m=\u001b[39m trimesh\u001b[39m.\u001b[39;49mload(gltf_path)\n\u001b[1;32m     <a href='file:///home/habib/Documents/KAUST-Work/website/3dcompat/compat_api/3D/compat3D.py?line=78'>79</a>\u001b[0m part_to_idx \u001b[39m=\u001b[39m \u001b[39mself\u001b[39m\u001b[39m.\u001b[39mpart_to_idx\n\u001b[1;32m     <a href='file:///home/habib/Documents/KAUST-Work/website/3dcompat/compat_api/3D/compat3D.py?line=79'>80</a>\u001b[0m part_rename \u001b[39m=\u001b[39m \u001b[39mself\u001b[39m\u001b[39m.\u001b[39mpart_rename\n",
      "File \u001b[0;32m~/.local/lib/python3.8/site-packages/trimesh/exchange/load.py:114\u001b[0m, in \u001b[0;36mload\u001b[0;34m(file_obj, file_type, resolver, force, **kwargs)\u001b[0m\n\u001b[1;32m    <a href='file:///home/habib/.local/lib/python3.8/site-packages/trimesh/exchange/load.py?line=105'>106</a>\u001b[0m     \u001b[39mreturn\u001b[39;00m file_obj\n\u001b[1;32m    <a href='file:///home/habib/.local/lib/python3.8/site-packages/trimesh/exchange/load.py?line=107'>108</a>\u001b[0m \u001b[39m# parse the file arguments into clean loadable form\u001b[39;00m\n\u001b[1;32m    <a href='file:///home/habib/.local/lib/python3.8/site-packages/trimesh/exchange/load.py?line=108'>109</a>\u001b[0m (file_obj,  \u001b[39m# file- like object\u001b[39;00m\n\u001b[1;32m    <a href='file:///home/habib/.local/lib/python3.8/site-packages/trimesh/exchange/load.py?line=109'>110</a>\u001b[0m  file_type,  \u001b[39m# str, what kind of file\u001b[39;00m\n\u001b[1;32m    <a href='file:///home/habib/.local/lib/python3.8/site-packages/trimesh/exchange/load.py?line=110'>111</a>\u001b[0m  metadata,  \u001b[39m# dict, any metadata from file name\u001b[39;00m\n\u001b[1;32m    <a href='file:///home/habib/.local/lib/python3.8/site-packages/trimesh/exchange/load.py?line=111'>112</a>\u001b[0m  opened,    \u001b[39m# bool, did we open the file ourselves\u001b[39;00m\n\u001b[1;32m    <a href='file:///home/habib/.local/lib/python3.8/site-packages/trimesh/exchange/load.py?line=112'>113</a>\u001b[0m  resolver   \u001b[39m# object to load referenced resources\u001b[39;00m\n\u001b[0;32m--> <a href='file:///home/habib/.local/lib/python3.8/site-packages/trimesh/exchange/load.py?line=113'>114</a>\u001b[0m  ) \u001b[39m=\u001b[39m parse_file_args(file_obj\u001b[39m=\u001b[39;49mfile_obj,\n\u001b[1;32m    <a href='file:///home/habib/.local/lib/python3.8/site-packages/trimesh/exchange/load.py?line=114'>115</a>\u001b[0m                      file_type\u001b[39m=\u001b[39;49mfile_type,\n\u001b[1;32m    <a href='file:///home/habib/.local/lib/python3.8/site-packages/trimesh/exchange/load.py?line=115'>116</a>\u001b[0m                      resolver\u001b[39m=\u001b[39;49mresolver)\n\u001b[1;32m    <a href='file:///home/habib/.local/lib/python3.8/site-packages/trimesh/exchange/load.py?line=117'>118</a>\u001b[0m \u001b[39mtry\u001b[39;00m:\n\u001b[1;32m    <a href='file:///home/habib/.local/lib/python3.8/site-packages/trimesh/exchange/load.py?line=118'>119</a>\u001b[0m     \u001b[39mif\u001b[39;00m \u001b[39misinstance\u001b[39m(file_obj, \u001b[39mdict\u001b[39m):\n\u001b[1;32m    <a href='file:///home/habib/.local/lib/python3.8/site-packages/trimesh/exchange/load.py?line=119'>120</a>\u001b[0m         \u001b[39m# if we've been passed a dict treat it as kwargs\u001b[39;00m\n",
      "File \u001b[0;32m~/.local/lib/python3.8/site-packages/trimesh/exchange/load.py:627\u001b[0m, in \u001b[0;36mparse_file_args\u001b[0;34m(file_obj, file_type, resolver, **kwargs)\u001b[0m\n\u001b[1;32m    <a href='file:///home/habib/.local/lib/python3.8/site-packages/trimesh/exchange/load.py?line=623'>624</a>\u001b[0m             \u001b[39mraise\u001b[39;00m \u001b[39mValueError\u001b[39;00m(\n\u001b[1;32m    <a href='file:///home/habib/.local/lib/python3.8/site-packages/trimesh/exchange/load.py?line=624'>625</a>\u001b[0m                 \u001b[39m'\u001b[39m\u001b[39muse load_remote to load URL: \u001b[39m\u001b[39m{}\u001b[39;00m\u001b[39m'\u001b[39m\u001b[39m.\u001b[39mformat(file_obj))\n\u001b[1;32m    <a href='file:///home/habib/.local/lib/python3.8/site-packages/trimesh/exchange/load.py?line=625'>626</a>\u001b[0m         \u001b[39melif\u001b[39;00m file_type \u001b[39mis\u001b[39;00m \u001b[39mNone\u001b[39;00m:\n\u001b[0;32m--> <a href='file:///home/habib/.local/lib/python3.8/site-packages/trimesh/exchange/load.py?line=626'>627</a>\u001b[0m             \u001b[39mraise\u001b[39;00m \u001b[39mValueError\u001b[39;00m(\u001b[39m'\u001b[39m\u001b[39mstring is not a file: \u001b[39m\u001b[39m{}\u001b[39;00m\u001b[39m'\u001b[39m\u001b[39m.\u001b[39mformat(file_obj))\n\u001b[1;32m    <a href='file:///home/habib/.local/lib/python3.8/site-packages/trimesh/exchange/load.py?line=628'>629</a>\u001b[0m \u001b[39mif\u001b[39;00m file_type \u001b[39mis\u001b[39;00m \u001b[39mNone\u001b[39;00m:\n\u001b[1;32m    <a href='file:///home/habib/.local/lib/python3.8/site-packages/trimesh/exchange/load.py?line=629'>630</a>\u001b[0m     file_type \u001b[39m=\u001b[39m file_obj\u001b[39m.\u001b[39m\u001b[39m__class__\u001b[39m\u001b[39m.\u001b[39m\u001b[39m__name__\u001b[39m\n",
      "\u001b[0;31mValueError\u001b[0m: string is not a file: ./raw_models/6af5c6ba-4d2d-4b9a-91cd-bdee96e4a713.glb"
     ]
    }
   ],
   "source": [
    "\"\"\"\n",
    "Unsylized 3D dataset loader.\n",
    "\n",
    "    Args:\n",
    "        meta_dir:    Metadata directory\n",
    "        root_dir:    Base dataset URL containing data split shards\n",
    "        split:       One of {train, valid}.\n",
    "        n_comp:      Number of compositions to use\n",
    "        n_points:    Number of sampled points. When n_points=0, returned original mesh.\n",
    "\"\"\"\n",
    "\n",
    "train_dataset = CompatLoader3D(meta_dir='../../metadata/', root_dir=\"./\", split=\"train\", n_point=0)\n",
    "shape_id, mesh = train_dataset.__getitem__(0)\n",
    "# mesh.show()"
   ]
  },
  {
   "cell_type": "markdown",
   "metadata": {},
   "source": [
    "### Get sampled point clouds\n",
    "#### n_point=2048"
   ]
  },
  {
   "cell_type": "code",
   "execution_count": null,
   "metadata": {
    "collapsed": false
   },
   "outputs": [],
   "source": [
    "train_dataset = CompatLoader3D(meta_dir='./metadata/', root_dir=\"./\", split=\"train\", n_point=2048)\n",
    "shape_id, sample_xyz, cls, sample_colors, sample_segment = train_dataset.__getitem__(0)\n",
    "print(shape_id, cls, sample_xyz.shape, sample_colors.shape, sample_segment.shape)\n",
    "np.unique(sample_segment)"
   ]
  },
  {
   "cell_type": "markdown",
   "metadata": {},
   "source": [
    "### Visualizing sampled point clouds"
   ]
  },
  {
   "cell_type": "code",
   "execution_count": null,
   "metadata": {
    "collapsed": false
   },
   "outputs": [],
   "source": [
    "trainDataLoader = torch.utils.data.DataLoader(train_dataset, batch_size=4)\n",
    "_, pointclouds, classes, colors, parts = next(iter(trainDataLoader))\n",
    "\n",
    "show_pointcloud(pointclouds, classes, parts, colors)"
   ]
  },
  {
   "cell_type": "markdown",
   "metadata": {},
   "source": [
    "### Visualizing stylized sampled point clouds\n",
    "#### n_point=4096"
   ]
  },
  {
   "cell_type": "code",
   "execution_count": null,
   "metadata": {
    "collapsed": false
   },
   "outputs": [],
   "source": [
    "\"\"\"\n",
    "Stylized 3D dataset loader.\n",
    "\n",
    "    Args:\n",
    "        meta_dir:    Metadata directory\n",
    "        root_dir:    Base dataset URL containing data split shards\n",
    "        split:       One of {train, valid}.\n",
    "        n_comp:      Number of compositions to use\n",
    "        n_points:    Number of sampled points. When n_points=0, returned original mesh.\n",
    "\"\"\"\n",
    "\n",
    "train_dataset = CompatLoader_stylized3D(meta_dir='./metadata/', root_dir=\"./\", split=\"train\", n_point=2048)\n",
    "\n",
    "trainDataLoader = torch.utils.data.DataLoader(train_dataset, batch_size=4)\n",
    "_, pointclouds, classes, colors, parts = next(iter(trainDataLoader))\n",
    "\n",
    "show_pointcloud(pointclouds, classes, parts, colors)"
   ]
  },
  {
   "cell_type": "code",
   "execution_count": null,
   "metadata": {
    "collapsed": true
   },
   "outputs": [],
   "source": [
    "mesh = trimesh.load('rendered_models/060dcf1e-f580-4b51-9769-4fba44152fcb/060dcf1e-f580-4b51-9769-4fba44152fcb_1684500.glb')"
   ]
  },
  {
   "cell_type": "code",
   "execution_count": null,
   "metadata": {
    "collapsed": false
   },
   "outputs": [],
   "source": [
    "mesh.show()"
   ]
  }
 ],
 "metadata": {
  "anaconda-cloud": {},
  "interpreter": {
   "hash": "916dbcbb3f70747c44a77c7bcd40155683ae19c65e1c03b4aa3499c5328201f1"
  },
  "kernelspec": {
   "display_name": "Python 3.8.10 64-bit",
   "language": "python",
   "name": "python3"
  },
  "language_info": {
   "codemirror_mode": {
    "name": "ipython",
    "version": 3
   },
   "file_extension": ".py",
   "mimetype": "text/x-python",
   "name": "python",
   "nbconvert_exporter": "python",
   "pygments_lexer": "ipython3",
   "version": "3.8.10"
  }
 },
 "nbformat": 4,
 "nbformat_minor": 1
}
